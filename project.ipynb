{
 "cells": [
  {
   "cell_type": "markdown",
   "id": "worldwide-blood",
   "metadata": {},
   "source": [
    "# Introduction"
   ]
  },
  {
   "cell_type": "markdown",
   "id": "understanding-numbers",
   "metadata": {},
   "source": [
    "*✏️ Write 2-3 sentences describing your research.*"
   ]
  },
  {
   "cell_type": "markdown",
   "id": "greater-circular",
   "metadata": {},
   "source": [
    "## Overarching Question: [✏️ PUT YOUR QUESTION HERE ✏️]"
   ]
  },
  {
   "cell_type": "markdown",
   "id": "appreciated-testimony",
   "metadata": {},
   "source": [
    "*✏️ Write 2-3 sentences explaining why this question.*"
   ]
  },
  {
   "cell_type": "markdown",
   "id": "permanent-pollution",
   "metadata": {},
   "source": [
    "# Data"
   ]
  },
  {
   "cell_type": "code",
   "execution_count": null,
   "id": "technical-evans",
   "metadata": {},
   "outputs": [],
   "source": [
    "#Include any import statements you will need\n",
    "import pandas as pd\n",
    "import matplotlib.pyplot as plt"
   ]
  },
  {
   "cell_type": "code",
   "execution_count": null,
   "id": "overhead-sigma",
   "metadata": {},
   "outputs": [],
   "source": [
    "### 💻 FILL IN YOUR DATASET FILE NAME BELOW 💻 ###\n",
    "\n",
    "file_name = \"YOUR_DATASET_FILE_NAME.csv\"\n",
    "dataset_path = \"data/\" + file_name\n",
    "\n",
    "df = pd.read_csv(dataset_path)"
   ]
  },
  {
   "cell_type": "code",
   "execution_count": null,
   "id": "heated-blade",
   "metadata": {},
   "outputs": [],
   "source": [
    "df.head()"
   ]
  },
  {
   "cell_type": "markdown",
   "id": "continental-franklin",
   "metadata": {},
   "source": [
    "**Data Overview**\n",
    "\n",
    "*✏️ Write 2-3 sentences describing this dataset. Be sure to include where the data comes from and what it contains.*"
   ]
  },
  {
   "cell_type": "markdown",
   "id": "infinite-instrument",
   "metadata": {},
   "source": [
    "# Methods and Results"
   ]
  },
  {
   "cell_type": "code",
   "execution_count": null,
   "id": "basic-canadian",
   "metadata": {},
   "outputs": [],
   "source": [
    "#Import any helper files you need here"
   ]
  },
  {
   "cell_type": "markdown",
   "id": "recognized-positive",
   "metadata": {},
   "source": [
    "## First Research Question: [✏️ PUT YOUR QUESTION HERE ✏️]\n"
   ]
  },
  {
   "cell_type": "markdown",
   "id": "graduate-palmer",
   "metadata": {},
   "source": [
    "### Methods"
   ]
  },
  {
   "cell_type": "markdown",
   "id": "endless-variation",
   "metadata": {},
   "source": [
    "*Explain how you will approach this research question below. Consider the following:* \n",
    "  - *Which aspects of the dataset will you use?* \n",
    "  - *How will you reorganize/store the data?* \n",
    "  - *What data science tools/functions will you use and why?* \n",
    "  \n",
    "✏️ *Write your answer below:*\n",
    "\n"
   ]
  },
  {
   "cell_type": "markdown",
   "id": "portuguese-japan",
   "metadata": {},
   "source": [
    "### Results "
   ]
  },
  {
   "cell_type": "code",
   "execution_count": 17,
   "id": "negative-highlight",
   "metadata": {},
   "outputs": [],
   "source": [
    "#######################################################################\n",
    "### 💻 YOUR WORK GOES HERE TO ANSWER THE FIRST RESEARCH QUESTION 💻 \n",
    "### \n",
    "### Your data analysis may include a statistic and/or a data visualization\n",
    "#######################################################################"
   ]
  },
  {
   "cell_type": "code",
   "execution_count": 16,
   "id": "victorian-burning",
   "metadata": {},
   "outputs": [],
   "source": [
    "# 💻 YOU CAN ADD NEW CELLS WITH THE \"+\" BUTTON "
   ]
  },
  {
   "cell_type": "markdown",
   "id": "collectible-puppy",
   "metadata": {},
   "source": [
    "## Second Research Question: [✏️ PUT YOUR QUESTION HERE ✏️]\n"
   ]
  },
  {
   "cell_type": "markdown",
   "id": "demographic-future",
   "metadata": {},
   "source": [
    "### Methods"
   ]
  },
  {
   "cell_type": "markdown",
   "id": "incorporate-roller",
   "metadata": {},
   "source": [
    "*Explain how you will approach this research question below. Consider the following:* \n",
    "  - *Which aspects of the dataset will you use?* \n",
    "  - *How will you reorganize/store the data?* \n",
    "  - *What data science tools/functions will you use and why?* \n",
    "\n",
    "✏️ *Write your answer below:*\n"
   ]
  },
  {
   "cell_type": "markdown",
   "id": "juvenile-creation",
   "metadata": {},
   "source": [
    "### Results "
   ]
  },
  {
   "cell_type": "code",
   "execution_count": 14,
   "id": "pursuant-surrey",
   "metadata": {},
   "outputs": [],
   "source": [
    "#######################################################################\n",
    "### 💻 YOUR WORK GOES HERE TO ANSWER THE SECOND RESEARCH QUESTION 💻 \n",
    "###\n",
    "### Your data analysis may include a statistic and/or a data visualization\n",
    "#######################################################################"
   ]
  },
  {
   "cell_type": "code",
   "execution_count": 15,
   "id": "located-night",
   "metadata": {},
   "outputs": [],
   "source": [
    "# 💻 YOU CAN ADD NEW CELLS WITH THE \"+\" BUTTON "
   ]
  },
  {
   "cell_type": "markdown",
   "id": "infectious-symbol",
   "metadata": {},
   "source": [
    "# Discussion"
   ]
  },
  {
   "cell_type": "markdown",
   "id": "furnished-camping",
   "metadata": {
    "code_folding": []
   },
   "source": [
    "## Considerations"
   ]
  },
  {
   "cell_type": "markdown",
   "id": "bearing-stadium",
   "metadata": {},
   "source": [
    "*It's important to recognize the limitations of our research.\n",
    "Consider the following:*\n",
    "\n",
    "- *Do the results give an accurate depiction of your research question? Why or why not?*\n",
    "- *What were limitations of your datset?*\n",
    "- *Are there any known biases in the data?*\n",
    "\n",
    "✏️ *Write your answer below:*"
   ]
  },
  {
   "cell_type": "markdown",
   "id": "beneficial-invasion",
   "metadata": {},
   "source": [
    "## Summary"
   ]
  },
  {
   "cell_type": "markdown",
   "id": "about-raise",
   "metadata": {},
   "source": [
    "*Summarize what you discovered through the research. Consider the following:*\n",
    "\n",
    "- *What did you learn about your media consumption/digital habits?*\n",
    "- *Did the results make sense?*\n",
    "- *What was most surprising?*\n",
    "- *How will this project impact you going forward?*\n",
    "\n",
    "✏️ *Write your answer below:*"
   ]
  }
 ],
 "metadata": {
  "jupytext": {
   "cell_metadata_json": true,
   "text_representation": {
    "extension": ".Rmd",
    "format_name": "rmarkdown",
    "format_version": "1.2",
    "jupytext_version": "1.9.1"
   }
  },
  "kernelspec": {
   "display_name": "Python 3 (ipykernel)",
   "language": "python",
   "name": "python3"
  },
  "language_info": {
   "codemirror_mode": {
    "name": "ipython",
    "version": 3
   },
   "file_extension": ".py",
   "mimetype": "text/x-python",
   "name": "python",
   "nbconvert_exporter": "python",
   "pygments_lexer": "ipython3",
   "version": "3.9.7"
  },
  "toc": {
   "base_numbering": 1,
   "nav_menu": {},
   "number_sections": false,
   "sideBar": true,
   "skip_h1_title": false,
   "title_cell": "Table of Contents",
   "title_sidebar": "Contents",
   "toc_cell": false,
   "toc_position": {},
   "toc_section_display": true,
   "toc_window_display": false
  },
  "varInspector": {
   "cols": {
    "lenName": 16,
    "lenType": 16,
    "lenVar": 40
   },
   "kernels_config": {
    "python": {
     "delete_cmd_postfix": "",
     "delete_cmd_prefix": "del ",
     "library": "var_list.py",
     "varRefreshCmd": "print(var_dic_list())"
    },
    "r": {
     "delete_cmd_postfix": ") ",
     "delete_cmd_prefix": "rm(",
     "library": "var_list.r",
     "varRefreshCmd": "cat(var_dic_list()) "
    }
   },
   "types_to_exclude": [
    "module",
    "function",
    "builtin_function_or_method",
    "instance",
    "_Feature"
   ],
   "window_display": false
  }
 },
 "nbformat": 4,
 "nbformat_minor": 5
}
