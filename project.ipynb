{
 "cells": [
  {
   "cell_type": "markdown",
   "id": "worldwide-blood",
   "metadata": {},
   "source": [
    "# Introduction"
   ]
  },
  {
   "cell_type": "markdown",
   "id": "understanding-numbers",
   "metadata": {},
   "source": [
    "<img src=\"INSERTLINK\">\n",
    "\n",
    "[Caption](INSERTLINK)"
   ]
  },
  {
   "cell_type": "markdown",
   "id": "greater-circular",
   "metadata": {},
   "source": [
    "## Overarching Question: [EDIT ME]"
   ]
  },
  {
   "cell_type": "markdown",
   "id": "immune-palestinian",
   "metadata": {},
   "source": [
    "**Why this question?** "
   ]
  },
  {
   "cell_type": "markdown",
   "id": "appreciated-testimony",
   "metadata": {},
   "source": [
    "[EDIT ME]"
   ]
  },
  {
   "cell_type": "markdown",
   "id": "permanent-pollution",
   "metadata": {},
   "source": [
    "# Data"
   ]
  },
  {
   "cell_type": "code",
   "execution_count": null,
   "id": "technical-evans",
   "metadata": {},
   "outputs": [],
   "source": [
    "#Include any import statements you will need\n",
    "import pandas as pd\n",
    "import matplotlib.pyplot as plt"
   ]
  },
  {
   "cell_type": "code",
   "execution_count": null,
   "id": "overhead-sigma",
   "metadata": {},
   "outputs": [],
   "source": [
    "df = pd.read_csv('social_media_use_clean.csv')"
   ]
  },
  {
   "cell_type": "markdown",
   "id": "continental-franklin",
   "metadata": {},
   "source": [
    "**What is this data about?**"
   ]
  },
  {
   "cell_type": "markdown",
   "id": "wired-parliament",
   "metadata": {},
   "source": [
    "Your answer here: "
   ]
  },
  {
   "cell_type": "markdown",
   "id": "joined-prayer",
   "metadata": {},
   "source": [
    "**Where is this data from?**"
   ]
  },
  {
   "cell_type": "markdown",
   "id": "convinced-pollution",
   "metadata": {},
   "source": [
    "Your answer here: \n",
    "Include who created this data set. \n",
    "Be sure to explain how this data was collected, who this data was collected from, when this data was collected, and where this data was collected."
   ]
  },
  {
   "cell_type": "markdown",
   "id": "alternate-pencil",
   "metadata": {},
   "source": [
    "# Subquestions"
   ]
  },
  {
   "cell_type": "markdown",
   "id": "agreed-staff",
   "metadata": {},
   "source": [
    "**What quantitative subquestions will you investigate?** "
   ]
  },
  {
   "cell_type": "markdown",
   "id": "controversial-heading",
   "metadata": {},
   "source": [
    "List at least 3 questions that you could answer given the maths and data science tools you know. \n",
    "Your answer here:"
   ]
  },
  {
   "cell_type": "markdown",
   "id": "infinite-instrument",
   "metadata": {},
   "source": [
    "# Methods and Results"
   ]
  },
  {
   "cell_type": "code",
   "execution_count": null,
   "id": "basic-canadian",
   "metadata": {},
   "outputs": [],
   "source": [
    "#Import any helper files you need here"
   ]
  },
  {
   "cell_type": "markdown",
   "id": "recognized-positive",
   "metadata": {
    "heading_collapsed": true
   },
   "source": [
    "## First Research Question [Edit me]"
   ]
  },
  {
   "cell_type": "markdown",
   "id": "graduate-palmer",
   "metadata": {
    "heading_collapsed": true,
    "hidden": true
   },
   "source": [
    "### Methods"
   ]
  },
  {
   "cell_type": "markdown",
   "id": "endless-variation",
   "metadata": {
    "hidden": true
   },
   "source": [
    "**How will you approach this question? What data science tools/functions will you use, and why?**"
   ]
  },
  {
   "cell_type": "markdown",
   "id": "major-proposal",
   "metadata": {
    "hidden": true
   },
   "source": [
    "Your answer here:"
   ]
  },
  {
   "cell_type": "markdown",
   "id": "enhanced-nation",
   "metadata": {
    "hidden": true
   },
   "source": [
    "**Which data will you use, and how will you reorganize / store this data?**"
   ]
  },
  {
   "cell_type": "markdown",
   "id": "promising-gateway",
   "metadata": {
    "hidden": true
   },
   "source": [
    "Your answer here:"
   ]
  },
  {
   "cell_type": "markdown",
   "id": "portuguese-japan",
   "metadata": {
    "heading_collapsed": true,
    "hidden": true
   },
   "source": [
    "### Results "
   ]
  },
  {
   "cell_type": "markdown",
   "id": "human-nepal",
   "metadata": {
    "hidden": true
   },
   "source": [
    "**Include cells here to show the results, which could be either a calculation or a visualization.** "
   ]
  },
  {
   "cell_type": "markdown",
   "id": "curious-consent",
   "metadata": {
    "hidden": true
   },
   "source": [
    "Your answer here: "
   ]
  },
  {
   "cell_type": "markdown",
   "id": "collectible-puppy",
   "metadata": {
    "heading_collapsed": true
   },
   "source": [
    "## Second Research Question [Edit me]"
   ]
  },
  {
   "cell_type": "markdown",
   "id": "demographic-future",
   "metadata": {
    "heading_collapsed": true,
    "hidden": true
   },
   "source": [
    "### Methods"
   ]
  },
  {
   "cell_type": "markdown",
   "id": "incorporate-roller",
   "metadata": {
    "hidden": true
   },
   "source": [
    "**How will you approach this question? What data science tools/functions will you use, and why?**"
   ]
  },
  {
   "cell_type": "markdown",
   "id": "approved-education",
   "metadata": {
    "hidden": true
   },
   "source": [
    "Your answer here:"
   ]
  },
  {
   "cell_type": "markdown",
   "id": "sweet-train",
   "metadata": {
    "hidden": true
   },
   "source": [
    "**Which data will you use, and how will you reorganize / store this data?**"
   ]
  },
  {
   "cell_type": "markdown",
   "id": "banned-usage",
   "metadata": {
    "hidden": true
   },
   "source": [
    "Your answer here:"
   ]
  },
  {
   "cell_type": "markdown",
   "id": "juvenile-creation",
   "metadata": {
    "hidden": true
   },
   "source": [
    "### Results "
   ]
  },
  {
   "cell_type": "markdown",
   "id": "baking-breakfast",
   "metadata": {
    "hidden": true
   },
   "source": [
    "**Include cells here to show the results, which could be either a calculation or a visualization.** "
   ]
  },
  {
   "cell_type": "markdown",
   "id": "classified-berlin",
   "metadata": {
    "heading_collapsed": true
   },
   "source": [
    "## Third Research Question [Edit me]"
   ]
  },
  {
   "cell_type": "markdown",
   "id": "nuclear-rider",
   "metadata": {
    "hidden": true
   },
   "source": [
    "### Methods"
   ]
  },
  {
   "cell_type": "markdown",
   "id": "previous-jefferson",
   "metadata": {
    "hidden": true
   },
   "source": [
    "**How will you approach this question? What data science tools/functions will you use, and why?**"
   ]
  },
  {
   "cell_type": "markdown",
   "id": "checked-financing",
   "metadata": {
    "hidden": true
   },
   "source": [
    "Your answer here:"
   ]
  },
  {
   "cell_type": "markdown",
   "id": "metric-african",
   "metadata": {
    "hidden": true
   },
   "source": [
    "**Which data will you use, and how will you reorganize / store this data?**"
   ]
  },
  {
   "cell_type": "markdown",
   "id": "bulgarian-russia",
   "metadata": {
    "hidden": true
   },
   "source": [
    "Your answer here:\n"
   ]
  },
  {
   "cell_type": "markdown",
   "id": "official-ferry",
   "metadata": {
    "hidden": true
   },
   "source": [
    "### Results "
   ]
  },
  {
   "cell_type": "markdown",
   "id": "liable-china",
   "metadata": {
    "hidden": true
   },
   "source": [
    "**Include cells here to show the results, which could be either a calculation or a visualization.** "
   ]
  },
  {
   "cell_type": "markdown",
   "id": "infectious-symbol",
   "metadata": {},
   "source": [
    "# Discussion"
   ]
  },
  {
   "cell_type": "markdown",
   "id": "beneficial-invasion",
   "metadata": {},
   "source": [
    "## Summary"
   ]
  },
  {
   "cell_type": "markdown",
   "id": "about-raise",
   "metadata": {},
   "source": [
    "**In summary, what did you discover?**"
   ]
  },
  {
   "cell_type": "markdown",
   "id": "bearing-stadium",
   "metadata": {},
   "source": [
    "Your answer here:"
   ]
  },
  {
   "cell_type": "markdown",
   "id": "equipped-newsletter",
   "metadata": {},
   "source": [
    "**What was most surprising? What made sense? How does this confirm or disprove other sources?**"
   ]
  },
  {
   "cell_type": "markdown",
   "id": "macro-assist",
   "metadata": {},
   "source": [
    "Your answer here:"
   ]
  },
  {
   "cell_type": "markdown",
   "id": "furnished-camping",
   "metadata": {
    "code_folding": []
   },
   "source": [
    "## Considerations"
   ]
  },
  {
   "cell_type": "markdown",
   "id": "vocal-crown",
   "metadata": {},
   "source": [
    "**It's important to recognize the limitations of our research as well. Describe a limitation of your dataset. Are there any known biases in the data?**"
   ]
  },
  {
   "cell_type": "markdown",
   "id": "authorized-roots",
   "metadata": {},
   "source": [
    "Your answer here:"
   ]
  },
  {
   "cell_type": "markdown",
   "id": "collective-student",
   "metadata": {},
   "source": [
    "**Describe an algorithmic choice that you made and how your results could have changed if you made that choice differently.**"
   ]
  },
  {
   "cell_type": "markdown",
   "id": "reduced-packing",
   "metadata": {},
   "source": [
    "Your answer here:"
   ]
  },
  {
   "cell_type": "markdown",
   "id": "negative-situation",
   "metadata": {},
   "source": [
    "## Next Steps"
   ]
  },
  {
   "cell_type": "markdown",
   "id": "assured-waters",
   "metadata": {},
   "source": [
    "Let's go deeper."
   ]
  },
  {
   "cell_type": "markdown",
   "id": "mature-dealing",
   "metadata": {},
   "source": [
    "**Imagine you have time and access to research participants who are willing to talk to you or have you observe them. What qualitative questions would you ask them that cannot be answered with quantitative analysis?**"
   ]
  },
  {
   "cell_type": "markdown",
   "id": "appreciated-paper",
   "metadata": {},
   "source": [
    "Your answer here:"
   ]
  },
  {
   "cell_type": "markdown",
   "id": "weekly-vinyl",
   "metadata": {},
   "source": [
    "**Who would you like to share these findings with, and why?**"
   ]
  },
  {
   "cell_type": "markdown",
   "id": "palestinian-pacific",
   "metadata": {},
   "source": [
    "Your answer here:"
   ]
  },
  {
   "cell_type": "markdown",
   "id": "interested-coaching",
   "metadata": {},
   "source": [
    "**Why does it matter?**"
   ]
  },
  {
   "cell_type": "markdown",
   "id": "surprised-norway",
   "metadata": {},
   "source": [
    "Your answer here:"
   ]
  }
 ],
 "metadata": {
  "jupytext": {
   "cell_metadata_json": true,
   "text_representation": {
    "extension": ".Rmd",
    "format_name": "rmarkdown",
    "format_version": "1.2",
    "jupytext_version": "1.9.1"
   }
  },
  "kernelspec": {
   "display_name": "Python 3",
   "language": "python",
   "name": "python3"
  }
 },
 "nbformat": 4,
 "nbformat_minor": 5
}
